{
 "cells": [
  {
   "cell_type": "code",
   "execution_count": 1,
   "metadata": {
    "ExecuteTime": {
     "end_time": "2020-11-03T10:11:26.598891Z",
     "start_time": "2020-11-03T10:11:25.968656Z"
    }
   },
   "outputs": [],
   "source": [
    "# Dependencies and Setup\n",
    "import numpy as np\n",
    "import pandas as pd\n",
    "from sqlalchemy import create_engine\n",
    "from config import username, password, host, port # need config.py file containing this info\n",
    "import matplotlib.pyplot as plt"
   ]
  },
  {
   "cell_type": "code",
   "execution_count": 2,
   "metadata": {
    "ExecuteTime": {
     "end_time": "2020-11-03T10:11:27.807943Z",
     "start_time": "2020-11-03T10:11:27.698237Z"
    }
   },
   "outputs": [],
   "source": [
    "# connect to local database\n",
    "engine = create_engine(f\"postgresql://{username}:{password}@{host}:{port}/EmployeeSQL\")\n",
    "connection = engine.connect()"
   ]
  },
  {
   "cell_type": "code",
   "execution_count": 3,
   "metadata": {
    "ExecuteTime": {
     "end_time": "2020-11-03T10:11:29.126450Z",
     "start_time": "2020-11-03T10:11:28.666008Z"
    }
   },
   "outputs": [
    {
     "data": {
      "text/html": [
       "<div>\n",
       "<style scoped>\n",
       "    .dataframe tbody tr th:only-of-type {\n",
       "        vertical-align: middle;\n",
       "    }\n",
       "\n",
       "    .dataframe tbody tr th {\n",
       "        vertical-align: top;\n",
       "    }\n",
       "\n",
       "    .dataframe thead th {\n",
       "        text-align: right;\n",
       "    }\n",
       "</style>\n",
       "<table border=\"1\" class=\"dataframe\">\n",
       "  <thead>\n",
       "    <tr style=\"text-align: right;\">\n",
       "      <th></th>\n",
       "      <th>emp_no</th>\n",
       "      <th>salary</th>\n",
       "    </tr>\n",
       "  </thead>\n",
       "  <tbody>\n",
       "    <tr>\n",
       "      <th>0</th>\n",
       "      <td>10001</td>\n",
       "      <td>60117</td>\n",
       "    </tr>\n",
       "    <tr>\n",
       "      <th>1</th>\n",
       "      <td>10002</td>\n",
       "      <td>65828</td>\n",
       "    </tr>\n",
       "    <tr>\n",
       "      <th>2</th>\n",
       "      <td>10003</td>\n",
       "      <td>40006</td>\n",
       "    </tr>\n",
       "    <tr>\n",
       "      <th>3</th>\n",
       "      <td>10004</td>\n",
       "      <td>40054</td>\n",
       "    </tr>\n",
       "    <tr>\n",
       "      <th>4</th>\n",
       "      <td>10005</td>\n",
       "      <td>78228</td>\n",
       "    </tr>\n",
       "  </tbody>\n",
       "</table>\n",
       "</div>"
      ],
      "text/plain": [
       "   emp_no  salary\n",
       "0   10001   60117\n",
       "1   10002   65828\n",
       "2   10003   40006\n",
       "3   10004   40054\n",
       "4   10005   78228"
      ]
     },
     "execution_count": 3,
     "metadata": {},
     "output_type": "execute_result"
    }
   ],
   "source": [
    "# Import the Salaries table\n",
    "salaries = pd.read_sql(\"SELECT * FROM salaries\", connection)\n",
    "salaries = salaries.dropna()\n",
    "salaries.head()"
   ]
  },
  {
   "cell_type": "code",
   "execution_count": 4,
   "metadata": {
    "ExecuteTime": {
     "end_time": "2020-11-03T10:11:30.410956Z",
     "start_time": "2020-11-03T10:11:30.400090Z"
    }
   },
   "outputs": [
    {
     "data": {
      "text/html": [
       "<div>\n",
       "<style scoped>\n",
       "    .dataframe tbody tr th:only-of-type {\n",
       "        vertical-align: middle;\n",
       "    }\n",
       "\n",
       "    .dataframe tbody tr th {\n",
       "        vertical-align: top;\n",
       "    }\n",
       "\n",
       "    .dataframe thead th {\n",
       "        text-align: right;\n",
       "    }\n",
       "</style>\n",
       "<table border=\"1\" class=\"dataframe\">\n",
       "  <thead>\n",
       "    <tr style=\"text-align: right;\">\n",
       "      <th></th>\n",
       "      <th>title_id</th>\n",
       "      <th>title</th>\n",
       "    </tr>\n",
       "  </thead>\n",
       "  <tbody>\n",
       "    <tr>\n",
       "      <th>0</th>\n",
       "      <td>s0001</td>\n",
       "      <td>Staff</td>\n",
       "    </tr>\n",
       "    <tr>\n",
       "      <th>1</th>\n",
       "      <td>s0002</td>\n",
       "      <td>Senior Staff</td>\n",
       "    </tr>\n",
       "    <tr>\n",
       "      <th>2</th>\n",
       "      <td>e0001</td>\n",
       "      <td>Assistant Engineer</td>\n",
       "    </tr>\n",
       "    <tr>\n",
       "      <th>3</th>\n",
       "      <td>e0002</td>\n",
       "      <td>Engineer</td>\n",
       "    </tr>\n",
       "    <tr>\n",
       "      <th>4</th>\n",
       "      <td>e0003</td>\n",
       "      <td>Senior Engineer</td>\n",
       "    </tr>\n",
       "  </tbody>\n",
       "</table>\n",
       "</div>"
      ],
      "text/plain": [
       "  title_id               title\n",
       "0    s0001               Staff\n",
       "1    s0002        Senior Staff\n",
       "2    e0001  Assistant Engineer\n",
       "3    e0002            Engineer\n",
       "4    e0003     Senior Engineer"
      ]
     },
     "execution_count": 4,
     "metadata": {},
     "output_type": "execute_result"
    }
   ],
   "source": [
    "# Import the Title table\n",
    "titles = pd.read_sql(\"SELECT * FROM titles\", connection)\n",
    "titles = titles.dropna()\n",
    "titles.head()"
   ]
  },
  {
   "cell_type": "code",
   "execution_count": 5,
   "metadata": {
    "ExecuteTime": {
     "end_time": "2020-11-03T10:11:32.925936Z",
     "start_time": "2020-11-03T10:11:31.918392Z"
    }
   },
   "outputs": [
    {
     "data": {
      "text/html": [
       "<div>\n",
       "<style scoped>\n",
       "    .dataframe tbody tr th:only-of-type {\n",
       "        vertical-align: middle;\n",
       "    }\n",
       "\n",
       "    .dataframe tbody tr th {\n",
       "        vertical-align: top;\n",
       "    }\n",
       "\n",
       "    .dataframe thead th {\n",
       "        text-align: right;\n",
       "    }\n",
       "</style>\n",
       "<table border=\"1\" class=\"dataframe\">\n",
       "  <thead>\n",
       "    <tr style=\"text-align: right;\">\n",
       "      <th></th>\n",
       "      <th>emp_no</th>\n",
       "      <th>emp_title_id</th>\n",
       "      <th>birth_date</th>\n",
       "      <th>first_name</th>\n",
       "      <th>last_name</th>\n",
       "      <th>sex</th>\n",
       "      <th>hire_date</th>\n",
       "    </tr>\n",
       "  </thead>\n",
       "  <tbody>\n",
       "    <tr>\n",
       "      <th>0</th>\n",
       "      <td>473302</td>\n",
       "      <td>s0001</td>\n",
       "      <td>1953-07-25</td>\n",
       "      <td>Hideyuki</td>\n",
       "      <td>Zallocco</td>\n",
       "      <td>M</td>\n",
       "      <td>1990-04-28</td>\n",
       "    </tr>\n",
       "    <tr>\n",
       "      <th>1</th>\n",
       "      <td>475053</td>\n",
       "      <td>e0002</td>\n",
       "      <td>1954-11-18</td>\n",
       "      <td>Byong</td>\n",
       "      <td>Delgrande</td>\n",
       "      <td>F</td>\n",
       "      <td>1991-09-07</td>\n",
       "    </tr>\n",
       "    <tr>\n",
       "      <th>2</th>\n",
       "      <td>57444</td>\n",
       "      <td>e0002</td>\n",
       "      <td>1958-01-30</td>\n",
       "      <td>Berry</td>\n",
       "      <td>Babb</td>\n",
       "      <td>F</td>\n",
       "      <td>1992-03-21</td>\n",
       "    </tr>\n",
       "    <tr>\n",
       "      <th>3</th>\n",
       "      <td>421786</td>\n",
       "      <td>s0001</td>\n",
       "      <td>1957-09-28</td>\n",
       "      <td>Xiong</td>\n",
       "      <td>Verhoeff</td>\n",
       "      <td>M</td>\n",
       "      <td>1987-11-26</td>\n",
       "    </tr>\n",
       "    <tr>\n",
       "      <th>4</th>\n",
       "      <td>282238</td>\n",
       "      <td>e0003</td>\n",
       "      <td>1952-10-28</td>\n",
       "      <td>Abdelkader</td>\n",
       "      <td>Baumann</td>\n",
       "      <td>F</td>\n",
       "      <td>1991-01-18</td>\n",
       "    </tr>\n",
       "  </tbody>\n",
       "</table>\n",
       "</div>"
      ],
      "text/plain": [
       "   emp_no emp_title_id  birth_date  first_name  last_name sex   hire_date\n",
       "0  473302        s0001  1953-07-25    Hideyuki   Zallocco   M  1990-04-28\n",
       "1  475053        e0002  1954-11-18       Byong  Delgrande   F  1991-09-07\n",
       "2   57444        e0002  1958-01-30       Berry       Babb   F  1992-03-21\n",
       "3  421786        s0001  1957-09-28       Xiong   Verhoeff   M  1987-11-26\n",
       "4  282238        e0003  1952-10-28  Abdelkader    Baumann   F  1991-01-18"
      ]
     },
     "execution_count": 5,
     "metadata": {},
     "output_type": "execute_result"
    }
   ],
   "source": [
    "# Import the Title table\n",
    "employees = pd.read_sql(\"SELECT * FROM employees\", connection)\n",
    "employees = employees.dropna()\n",
    "employees.head()"
   ]
  },
  {
   "cell_type": "code",
   "execution_count": 6,
   "metadata": {
    "ExecuteTime": {
     "end_time": "2020-11-03T10:11:34.960562Z",
     "start_time": "2020-11-03T10:11:34.711898Z"
    }
   },
   "outputs": [
    {
     "data": {
      "image/png": "[encoded data removed]",
      "text/plain": [
       "<Figure size 720x576 with 1 Axes>"
      ]
     },
     "metadata": {
      "needs_background": "light"
     },
     "output_type": "display_data"
    }
   ],
   "source": [
    "# Create a histogram to visualize the most common salary ranges for employees.\n",
    "salaries.hist(column = 'salary', color= \"lightseagreen\", figsize = (10,8))\n",
    "\n",
    "plt.title(\"Most Common Salary Ranges for Employees\")\n",
    "plt.xlabel(\"Salary\")\n",
    "plt.ylabel(\"Number of Employees\")\n",
    "plt.savefig(\"histogram.png\")\n",
    "plt.show()"
   ]
  },
  {
   "cell_type": "code",
   "execution_count": 7,
   "metadata": {
    "ExecuteTime": {
     "end_time": "2020-11-03T10:11:36.186559Z",
     "start_time": "2020-11-03T10:11:36.074126Z"
    }
   },
   "outputs": [
    {
     "data": {
      "text/html": [
       "<div>\n",
       "<style scoped>\n",
       "    .dataframe tbody tr th:only-of-type {\n",
       "        vertical-align: middle;\n",
       "    }\n",
       "\n",
       "    .dataframe tbody tr th {\n",
       "        vertical-align: top;\n",
       "    }\n",
       "\n",
       "    .dataframe thead th {\n",
       "        text-align: right;\n",
       "    }\n",
       "</style>\n",
       "<table border=\"1\" class=\"dataframe\">\n",
       "  <thead>\n",
       "    <tr style=\"text-align: right;\">\n",
       "      <th></th>\n",
       "      <th>emp_no</th>\n",
       "      <th>emp_title_id</th>\n",
       "      <th>birth_date</th>\n",
       "      <th>first_name</th>\n",
       "      <th>last_name</th>\n",
       "      <th>sex</th>\n",
       "      <th>hire_date</th>\n",
       "      <th>salary</th>\n",
       "    </tr>\n",
       "  </thead>\n",
       "  <tbody>\n",
       "    <tr>\n",
       "      <th>0</th>\n",
       "      <td>473302</td>\n",
       "      <td>s0001</td>\n",
       "      <td>1953-07-25</td>\n",
       "      <td>Hideyuki</td>\n",
       "      <td>Zallocco</td>\n",
       "      <td>M</td>\n",
       "      <td>1990-04-28</td>\n",
       "      <td>40000</td>\n",
       "    </tr>\n",
       "    <tr>\n",
       "      <th>1</th>\n",
       "      <td>475053</td>\n",
       "      <td>e0002</td>\n",
       "      <td>1954-11-18</td>\n",
       "      <td>Byong</td>\n",
       "      <td>Delgrande</td>\n",
       "      <td>F</td>\n",
       "      <td>1991-09-07</td>\n",
       "      <td>53422</td>\n",
       "    </tr>\n",
       "    <tr>\n",
       "      <th>2</th>\n",
       "      <td>57444</td>\n",
       "      <td>e0002</td>\n",
       "      <td>1958-01-30</td>\n",
       "      <td>Berry</td>\n",
       "      <td>Babb</td>\n",
       "      <td>F</td>\n",
       "      <td>1992-03-21</td>\n",
       "      <td>48973</td>\n",
       "    </tr>\n",
       "    <tr>\n",
       "      <th>3</th>\n",
       "      <td>421786</td>\n",
       "      <td>s0001</td>\n",
       "      <td>1957-09-28</td>\n",
       "      <td>Xiong</td>\n",
       "      <td>Verhoeff</td>\n",
       "      <td>M</td>\n",
       "      <td>1987-11-26</td>\n",
       "      <td>40000</td>\n",
       "    </tr>\n",
       "    <tr>\n",
       "      <th>4</th>\n",
       "      <td>282238</td>\n",
       "      <td>e0003</td>\n",
       "      <td>1952-10-28</td>\n",
       "      <td>Abdelkader</td>\n",
       "      <td>Baumann</td>\n",
       "      <td>F</td>\n",
       "      <td>1991-01-18</td>\n",
       "      <td>40000</td>\n",
       "    </tr>\n",
       "  </tbody>\n",
       "</table>\n",
       "</div>"
      ],
      "text/plain": [
       "   emp_no emp_title_id  birth_date  first_name  last_name sex   hire_date  \\\n",
       "0  473302        s0001  1953-07-25    Hideyuki   Zallocco   M  1990-04-28   \n",
       "1  475053        e0002  1954-11-18       Byong  Delgrande   F  1991-09-07   \n",
       "2   57444        e0002  1958-01-30       Berry       Babb   F  1992-03-21   \n",
       "3  421786        s0001  1957-09-28       Xiong   Verhoeff   M  1987-11-26   \n",
       "4  282238        e0003  1952-10-28  Abdelkader    Baumann   F  1991-01-18   \n",
       "\n",
       "   salary  \n",
       "0   40000  \n",
       "1   53422  \n",
       "2   48973  \n",
       "3   40000  \n",
       "4   40000  "
      ]
     },
     "execution_count": 7,
     "metadata": {},
     "output_type": "execute_result"
    }
   ],
   "source": [
    "# merge salary table and title table\n",
    "employees_salaries = pd.merge(employees, salaries, how = 'inner', on='emp_no')\n",
    "employees_salaries.head()"
   ]
  },
  {
   "cell_type": "code",
   "execution_count": 8,
   "metadata": {
    "ExecuteTime": {
     "end_time": "2020-11-03T10:11:37.319985Z",
     "start_time": "2020-11-03T10:11:37.249831Z"
    }
   },
   "outputs": [
    {
     "data": {
      "text/html": [
       "<div>\n",
       "<style scoped>\n",
       "    .dataframe tbody tr th:only-of-type {\n",
       "        vertical-align: middle;\n",
       "    }\n",
       "\n",
       "    .dataframe tbody tr th {\n",
       "        vertical-align: top;\n",
       "    }\n",
       "\n",
       "    .dataframe thead th {\n",
       "        text-align: right;\n",
       "    }\n",
       "</style>\n",
       "<table border=\"1\" class=\"dataframe\">\n",
       "  <thead>\n",
       "    <tr style=\"text-align: right;\">\n",
       "      <th></th>\n",
       "      <th>emp_no</th>\n",
       "      <th>title_id</th>\n",
       "      <th>birth_date</th>\n",
       "      <th>first_name</th>\n",
       "      <th>last_name</th>\n",
       "      <th>sex</th>\n",
       "      <th>hire_date</th>\n",
       "      <th>salary</th>\n",
       "    </tr>\n",
       "  </thead>\n",
       "  <tbody>\n",
       "    <tr>\n",
       "      <th>0</th>\n",
       "      <td>473302</td>\n",
       "      <td>s0001</td>\n",
       "      <td>1953-07-25</td>\n",
       "      <td>Hideyuki</td>\n",
       "      <td>Zallocco</td>\n",
       "      <td>M</td>\n",
       "      <td>1990-04-28</td>\n",
       "      <td>40000</td>\n",
       "    </tr>\n",
       "    <tr>\n",
       "      <th>1</th>\n",
       "      <td>475053</td>\n",
       "      <td>e0002</td>\n",
       "      <td>1954-11-18</td>\n",
       "      <td>Byong</td>\n",
       "      <td>Delgrande</td>\n",
       "      <td>F</td>\n",
       "      <td>1991-09-07</td>\n",
       "      <td>53422</td>\n",
       "    </tr>\n",
       "    <tr>\n",
       "      <th>2</th>\n",
       "      <td>57444</td>\n",
       "      <td>e0002</td>\n",
       "      <td>1958-01-30</td>\n",
       "      <td>Berry</td>\n",
       "      <td>Babb</td>\n",
       "      <td>F</td>\n",
       "      <td>1992-03-21</td>\n",
       "      <td>48973</td>\n",
       "    </tr>\n",
       "    <tr>\n",
       "      <th>3</th>\n",
       "      <td>421786</td>\n",
       "      <td>s0001</td>\n",
       "      <td>1957-09-28</td>\n",
       "      <td>Xiong</td>\n",
       "      <td>Verhoeff</td>\n",
       "      <td>M</td>\n",
       "      <td>1987-11-26</td>\n",
       "      <td>40000</td>\n",
       "    </tr>\n",
       "    <tr>\n",
       "      <th>4</th>\n",
       "      <td>282238</td>\n",
       "      <td>e0003</td>\n",
       "      <td>1952-10-28</td>\n",
       "      <td>Abdelkader</td>\n",
       "      <td>Baumann</td>\n",
       "      <td>F</td>\n",
       "      <td>1991-01-18</td>\n",
       "      <td>40000</td>\n",
       "    </tr>\n",
       "  </tbody>\n",
       "</table>\n",
       "</div>"
      ],
      "text/plain": [
       "   emp_no title_id  birth_date  first_name  last_name sex   hire_date  salary\n",
       "0  473302    s0001  1953-07-25    Hideyuki   Zallocco   M  1990-04-28   40000\n",
       "1  475053    e0002  1954-11-18       Byong  Delgrande   F  1991-09-07   53422\n",
       "2   57444    e0002  1958-01-30       Berry       Babb   F  1992-03-21   48973\n",
       "3  421786    s0001  1957-09-28       Xiong   Verhoeff   M  1987-11-26   40000\n",
       "4  282238    e0003  1952-10-28  Abdelkader    Baumann   F  1991-01-18   40000"
      ]
     },
     "execution_count": 8,
     "metadata": {},
     "output_type": "execute_result"
    }
   ],
   "source": [
    "# rename \"emp_title_id\" \n",
    "df = employees_salaries.rename(columns={'emp_title_id': 'title_id'})\n",
    "df.head()"
   ]
  },
  {
   "cell_type": "code",
   "execution_count": 9,
   "metadata": {
    "ExecuteTime": {
     "end_time": "2020-11-03T10:11:38.881380Z",
     "start_time": "2020-11-03T10:11:38.791770Z"
    }
   },
   "outputs": [
    {
     "data": {
      "text/html": [
       "<div>\n",
       "<style scoped>\n",
       "    .dataframe tbody tr th:only-of-type {\n",
       "        vertical-align: middle;\n",
       "    }\n",
       "\n",
       "    .dataframe tbody tr th {\n",
       "        vertical-align: top;\n",
       "    }\n",
       "\n",
       "    .dataframe thead th {\n",
       "        text-align: right;\n",
       "    }\n",
       "</style>\n",
       "<table border=\"1\" class=\"dataframe\">\n",
       "  <thead>\n",
       "    <tr style=\"text-align: right;\">\n",
       "      <th></th>\n",
       "      <th>emp_no</th>\n",
       "      <th>title_id</th>\n",
       "      <th>birth_date</th>\n",
       "      <th>first_name</th>\n",
       "      <th>last_name</th>\n",
       "      <th>sex</th>\n",
       "      <th>hire_date</th>\n",
       "      <th>salary</th>\n",
       "      <th>title</th>\n",
       "    </tr>\n",
       "  </thead>\n",
       "  <tbody>\n",
       "    <tr>\n",
       "      <th>0</th>\n",
       "      <td>473302</td>\n",
       "      <td>s0001</td>\n",
       "      <td>1953-07-25</td>\n",
       "      <td>Hideyuki</td>\n",
       "      <td>Zallocco</td>\n",
       "      <td>M</td>\n",
       "      <td>1990-04-28</td>\n",
       "      <td>40000</td>\n",
       "      <td>Staff</td>\n",
       "    </tr>\n",
       "    <tr>\n",
       "      <th>1</th>\n",
       "      <td>421786</td>\n",
       "      <td>s0001</td>\n",
       "      <td>1957-09-28</td>\n",
       "      <td>Xiong</td>\n",
       "      <td>Verhoeff</td>\n",
       "      <td>M</td>\n",
       "      <td>1987-11-26</td>\n",
       "      <td>40000</td>\n",
       "      <td>Staff</td>\n",
       "    </tr>\n",
       "    <tr>\n",
       "      <th>2</th>\n",
       "      <td>273487</td>\n",
       "      <td>s0001</td>\n",
       "      <td>1957-04-14</td>\n",
       "      <td>Christoph</td>\n",
       "      <td>Parfitt</td>\n",
       "      <td>M</td>\n",
       "      <td>1991-06-28</td>\n",
       "      <td>56087</td>\n",
       "      <td>Staff</td>\n",
       "    </tr>\n",
       "    <tr>\n",
       "      <th>3</th>\n",
       "      <td>246449</td>\n",
       "      <td>s0001</td>\n",
       "      <td>1958-03-23</td>\n",
       "      <td>Subbu</td>\n",
       "      <td>Bultermann</td>\n",
       "      <td>F</td>\n",
       "      <td>1988-03-25</td>\n",
       "      <td>87084</td>\n",
       "      <td>Staff</td>\n",
       "    </tr>\n",
       "    <tr>\n",
       "      <th>4</th>\n",
       "      <td>48085</td>\n",
       "      <td>s0001</td>\n",
       "      <td>1964-01-19</td>\n",
       "      <td>Venkatesan</td>\n",
       "      <td>Gilg</td>\n",
       "      <td>M</td>\n",
       "      <td>1993-06-28</td>\n",
       "      <td>63016</td>\n",
       "      <td>Staff</td>\n",
       "    </tr>\n",
       "  </tbody>\n",
       "</table>\n",
       "</div>"
      ],
      "text/plain": [
       "   emp_no title_id  birth_date  first_name   last_name sex   hire_date  \\\n",
       "0  473302    s0001  1953-07-25    Hideyuki    Zallocco   M  1990-04-28   \n",
       "1  421786    s0001  1957-09-28       Xiong    Verhoeff   M  1987-11-26   \n",
       "2  273487    s0001  1957-04-14   Christoph     Parfitt   M  1991-06-28   \n",
       "3  246449    s0001  1958-03-23       Subbu  Bultermann   F  1988-03-25   \n",
       "4   48085    s0001  1964-01-19  Venkatesan        Gilg   M  1993-06-28   \n",
       "\n",
       "   salary  title  \n",
       "0   40000  Staff  \n",
       "1   40000  Staff  \n",
       "2   56087  Staff  \n",
       "3   87084  Staff  \n",
       "4   63016  Staff  "
      ]
     },
     "execution_count": 9,
     "metadata": {},
     "output_type": "execute_result"
    }
   ],
   "source": [
    "# merge df table and title table\n",
    "df_new = pd.merge(df, titles, how = 'inner', on='title_id')\n",
    "df_new.head()"
   ]
  },
  {
   "cell_type": "code",
   "execution_count": 10,
   "metadata": {
    "ExecuteTime": {
     "end_time": "2020-11-03T10:11:40.031577Z",
     "start_time": "2020-11-03T10:11:39.711559Z"
    }
   },
   "outputs": [
    {
     "data": {
      "image/png": "[encoded data removed]",
      "text/plain": [
       "<Figure size 864x432 with 1 Axes>"
      ]
     },
     "metadata": {
      "needs_background": "light"
     },
     "output_type": "display_data"
    },
    {
     "data": {
      "text/plain": [
       "<Figure size 432x288 with 0 Axes>"
      ]
     },
     "metadata": {},
     "output_type": "display_data"
    }
   ],
   "source": [
    "# Create a bar chart of average salary by title.\n",
    "group_title = pd.DataFrame(df_new.groupby(\"title\")[\"salary\"].mean())\n",
    "group_title.plot(kind=\"bar\",color= \"goldenrod\",figsize=(12,6), )\n",
    "plt.title(\"Average Salary by Title\")\n",
    "plt.ylabel(\"Salary\")\n",
    "plt.savefig(\"barchart.png\")\n",
    "plt.show()\n",
    "plt.tight_layout()"
   ]
  }
 ],
 "metadata": {
  "hide_input": false,
  "kernelspec": {
   "display_name": "Python 3",
   "language": "python",
   "name": "python3"
  },
  "language_info": {
   "codemirror_mode": {
    "name": "ipython",
    "version": 3
   },
   "file_extension": ".py",
   "mimetype": "text/x-python",
   "name": "python",
   "nbconvert_exporter": "python",
   "pygments_lexer": "ipython3",
   "version": "3.8.3"
  },
  "toc": {
   "base_numbering": 1,
   "nav_menu": {},
   "number_sections": true,
   "sideBar": true,
   "skip_h1_title": false,
   "title_cell": "Table of Contents",
   "title_sidebar": "Contents",
   "toc_cell": false,
   "toc_position": {},
   "toc_section_display": true,
   "toc_window_display": false
  },
  "varInspector": {
   "cols": {
    "lenName": 16,
    "lenType": 16,
    "lenVar": 40
   },
   "kernels_config": {
    "python": {
     "delete_cmd_postfix": "",
     "delete_cmd_prefix": "del ",
     "library": "var_list.py",
     "varRefreshCmd": "print(var_dic_list())"
    },
    "r": {
     "delete_cmd_postfix": ") ",
     "delete_cmd_prefix": "rm(",
     "library": "var_list.r",
     "varRefreshCmd": "cat(var_dic_list()) "
    }
   },
   "types_to_exclude": [
    "module",
    "function",
    "builtin_function_or_method",
    "instance",
    "_Feature"
   ],
   "window_display": false
  }
 },
 "nbformat": 4,
 "nbformat_minor": 4
}
